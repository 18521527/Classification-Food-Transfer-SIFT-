{
  "nbformat": 4,
  "nbformat_minor": 0,
  "metadata": {
    "colab": {
      "name": "VGG19.ipynb",
      "provenance": [],
      "collapsed_sections": [],
      "toc_visible": true,
      "mount_file_id": "1oBPQGWSQ_w1Kc_-4OS2I2HyGitkL6T2t",
      "authorship_tag": "ABX9TyOd+ZFpS/eSxBctVPMXgplT",
      "include_colab_link": true
    },
    "kernelspec": {
      "name": "python3",
      "display_name": "Python 3"
    },
    "accelerator": "GPU"
  },
  "cells": [
    {
      "cell_type": "markdown",
      "metadata": {
        "id": "view-in-github",
        "colab_type": "text"
      },
      "source": [
        "<a href=\"https://colab.research.google.com/github/18521527/Classification-Food-Transfer-SIFT-/blob/main/VGG19.ipynb\" target=\"_parent\"><img src=\"https://colab.research.google.com/assets/colab-badge.svg\" alt=\"Open In Colab\"/></a>"
      ]
    },
    {
      "cell_type": "markdown",
      "metadata": {
        "id": "byJ1NKTQ9zhu"
      },
      "source": [
        "#Mounting Google Drive\r\n"
      ]
    },
    {
      "cell_type": "code",
      "metadata": {
        "id": "1P7rkCEJ8Jg3",
        "colab": {
          "base_uri": "https://localhost:8080/"
        },
        "outputId": "e3859402-d3d0-4d1d-9bb1-6805f6c70119"
      },
      "source": [
        "from google.colab import drive, files\r\n",
        "drive.mount('/content/drive')"
      ],
      "execution_count": 1,
      "outputs": [
        {
          "output_type": "stream",
          "text": [
            "Drive already mounted at /content/drive; to attempt to forcibly remount, call drive.mount(\"/content/drive\", force_remount=True).\n"
          ],
          "name": "stdout"
        }
      ]
    },
    {
      "cell_type": "markdown",
      "metadata": {
        "id": "Tye69ZCP97SU"
      },
      "source": [
        "# Importing the libraries"
      ]
    },
    {
      "cell_type": "code",
      "metadata": {
        "id": "f1hDmuwm9581"
      },
      "source": [
        "import h5py\r\n",
        "import math\r\n",
        "import matplotlib.pyplot as plt\r\n",
        "import numpy as np\r\n",
        "import os\r\n",
        "import pandas as pd\r\n",
        "import tensorflow as tf\r\n",
        "from tensorflow import keras\r\n",
        "from tensorflow.keras.preprocessing import image\r\n",
        "import seaborn as sns\r\n",
        "from tensorflow.keras import layers\r\n",
        "from tensorflow.keras.models import Sequential\r\n",
        "from keras import optimizers, losses, activations, models\r\n",
        "import pathlib\r\n",
        "import shutil\r\n",
        "from keras.models import Model"
      ],
      "execution_count": 2,
      "outputs": []
    },
    {
      "cell_type": "code",
      "metadata": {
        "id": "ne-th9AShe8t"
      },
      "source": [
        "import cv2"
      ],
      "execution_count": 3,
      "outputs": []
    },
    {
      "cell_type": "markdown",
      "metadata": {
        "id": "9VS_Ny6v-JLl"
      },
      "source": [
        "# Get data:"
      ]
    },
    {
      "cell_type": "code",
      "metadata": {
        "id": "mGXXr4bk-Ibi",
        "colab": {
          "base_uri": "https://localhost:8080/"
        },
        "outputId": "6a2d4602-6bee-4bb7-9111-d76a8139c64e"
      },
      "source": [
        "def get_data():\r\n",
        "    if 'Dataset' in os.listdir():\r\n",
        "        print('Dataset already exists')\r\n",
        "    else:\r\n",
        "        # print('Downloading the data...')\r\n",
        "        # !gdown --id 1WBhCaHNG0Uh20MNsV3l9kjVXqzFilBQL\r\n",
        "        # print('Dataset downloaded!')\r\n",
        "        # print('Copying Zip file to your Drive..')\r\n",
        "        # !cp /content/split-VietnameseFoods-30.tar.gz 'drive/My Drive/VietnameseFoods-30'\r\n",
        "        # print('Copying done!')\r\n",
        "        print('Copying the data...')\r\n",
        "        !cp /content/drive/MyDrive/DeepLearning/Final/Model_Transfer/InceptionV3/split-mini-VietnameseFoods-30.tar.gz ./\r\n",
        "        print('Dataset copied!')\r\n",
        "        print('Extracting data..')\r\n",
        "        !tar -xzvf split-mini-VietnameseFoods-30.tar.gz\r\n",
        "        print('Extraction done!')\r\n",
        "        print('Removing Zip file...')\r\n",
        "        #os.remove('./split-VietnameseFoods-30.tar.gz')\r\n",
        "        print('Done!')\r\n",
        "\r\n",
        "\r\n",
        "get_data()"
      ],
      "execution_count": 4,
      "outputs": [
        {
          "output_type": "stream",
          "text": [
            "Dataset already exists\n"
          ],
          "name": "stdout"
        }
      ]
    },
    {
      "cell_type": "code",
      "metadata": {
        "id": "aRNVg9tINkKy",
        "colab": {
          "base_uri": "https://localhost:8080/",
          "height": 306
        },
        "outputId": "d73c17df-fb0a-4b5d-b26a-6c10e8107591"
      },
      "source": [
        "shutil.rmtree('/content/Dataset/Training dataset/Bánh đúc')"
      ],
      "execution_count": 5,
      "outputs": [
        {
          "output_type": "error",
          "ename": "FileNotFoundError",
          "evalue": "ignored",
          "traceback": [
            "\u001b[0;31m---------------------------------------------------------------------------\u001b[0m",
            "\u001b[0;31mFileNotFoundError\u001b[0m                         Traceback (most recent call last)",
            "\u001b[0;32m<ipython-input-5-e50f8100c655>\u001b[0m in \u001b[0;36m<module>\u001b[0;34m()\u001b[0m\n\u001b[0;32m----> 1\u001b[0;31m \u001b[0mshutil\u001b[0m\u001b[0;34m.\u001b[0m\u001b[0mrmtree\u001b[0m\u001b[0;34m(\u001b[0m\u001b[0;34m'/content/Dataset/Training dataset/Bánh đúc'\u001b[0m\u001b[0;34m)\u001b[0m\u001b[0;34m\u001b[0m\u001b[0;34m\u001b[0m\u001b[0m\n\u001b[0m",
            "\u001b[0;32m/usr/lib/python3.6/shutil.py\u001b[0m in \u001b[0;36mrmtree\u001b[0;34m(path, ignore_errors, onerror)\u001b[0m\n\u001b[1;32m    475\u001b[0m             \u001b[0morig_st\u001b[0m \u001b[0;34m=\u001b[0m \u001b[0mos\u001b[0m\u001b[0;34m.\u001b[0m\u001b[0mlstat\u001b[0m\u001b[0;34m(\u001b[0m\u001b[0mpath\u001b[0m\u001b[0;34m)\u001b[0m\u001b[0;34m\u001b[0m\u001b[0;34m\u001b[0m\u001b[0m\n\u001b[1;32m    476\u001b[0m         \u001b[0;32mexcept\u001b[0m \u001b[0mException\u001b[0m\u001b[0;34m:\u001b[0m\u001b[0;34m\u001b[0m\u001b[0;34m\u001b[0m\u001b[0m\n\u001b[0;32m--> 477\u001b[0;31m             \u001b[0monerror\u001b[0m\u001b[0;34m(\u001b[0m\u001b[0mos\u001b[0m\u001b[0;34m.\u001b[0m\u001b[0mlstat\u001b[0m\u001b[0;34m,\u001b[0m \u001b[0mpath\u001b[0m\u001b[0;34m,\u001b[0m \u001b[0msys\u001b[0m\u001b[0;34m.\u001b[0m\u001b[0mexc_info\u001b[0m\u001b[0;34m(\u001b[0m\u001b[0;34m)\u001b[0m\u001b[0;34m)\u001b[0m\u001b[0;34m\u001b[0m\u001b[0;34m\u001b[0m\u001b[0m\n\u001b[0m\u001b[1;32m    478\u001b[0m             \u001b[0;32mreturn\u001b[0m\u001b[0;34m\u001b[0m\u001b[0;34m\u001b[0m\u001b[0m\n\u001b[1;32m    479\u001b[0m         \u001b[0;32mtry\u001b[0m\u001b[0;34m:\u001b[0m\u001b[0;34m\u001b[0m\u001b[0;34m\u001b[0m\u001b[0m\n",
            "\u001b[0;32m/usr/lib/python3.6/shutil.py\u001b[0m in \u001b[0;36mrmtree\u001b[0;34m(path, ignore_errors, onerror)\u001b[0m\n\u001b[1;32m    473\u001b[0m         \u001b[0;31m# lstat()/open()/fstat() trick.\u001b[0m\u001b[0;34m\u001b[0m\u001b[0;34m\u001b[0m\u001b[0;34m\u001b[0m\u001b[0m\n\u001b[1;32m    474\u001b[0m         \u001b[0;32mtry\u001b[0m\u001b[0;34m:\u001b[0m\u001b[0;34m\u001b[0m\u001b[0;34m\u001b[0m\u001b[0m\n\u001b[0;32m--> 475\u001b[0;31m             \u001b[0morig_st\u001b[0m \u001b[0;34m=\u001b[0m \u001b[0mos\u001b[0m\u001b[0;34m.\u001b[0m\u001b[0mlstat\u001b[0m\u001b[0;34m(\u001b[0m\u001b[0mpath\u001b[0m\u001b[0;34m)\u001b[0m\u001b[0;34m\u001b[0m\u001b[0;34m\u001b[0m\u001b[0m\n\u001b[0m\u001b[1;32m    476\u001b[0m         \u001b[0;32mexcept\u001b[0m \u001b[0mException\u001b[0m\u001b[0;34m:\u001b[0m\u001b[0;34m\u001b[0m\u001b[0;34m\u001b[0m\u001b[0m\n\u001b[1;32m    477\u001b[0m             \u001b[0monerror\u001b[0m\u001b[0;34m(\u001b[0m\u001b[0mos\u001b[0m\u001b[0;34m.\u001b[0m\u001b[0mlstat\u001b[0m\u001b[0;34m,\u001b[0m \u001b[0mpath\u001b[0m\u001b[0;34m,\u001b[0m \u001b[0msys\u001b[0m\u001b[0;34m.\u001b[0m\u001b[0mexc_info\u001b[0m\u001b[0;34m(\u001b[0m\u001b[0;34m)\u001b[0m\u001b[0;34m)\u001b[0m\u001b[0;34m\u001b[0m\u001b[0;34m\u001b[0m\u001b[0m\n",
            "\u001b[0;31mFileNotFoundError\u001b[0m: [Errno 2] No such file or directory: '/content/Dataset/Training dataset/Bánh đúc'"
          ]
        }
      ]
    },
    {
      "cell_type": "code",
      "metadata": {
        "id": "boW0kmJ0NwWI"
      },
      "source": [
        "shutil.rmtree('/content/Dataset/Test dataset/Bánh đúc')\r\n",
        "shutil.rmtree('/content/Dataset/Validation dataset/Bánh đúc')"
      ],
      "execution_count": null,
      "outputs": []
    },
    {
      "cell_type": "markdown",
      "metadata": {
        "id": "b7ckOO4p-0tl"
      },
      "source": [
        "# Read data"
      ]
    },
    {
      "cell_type": "code",
      "metadata": {
        "id": "37UAUwWUFdwd"
      },
      "source": [
        "train_dir = './Dataset/Training dataset'\r\n",
        "val_dir = './Dataset/Validation dataset'\r\n",
        "test_dir = './Dataset/Test dataset'\r\n",
        "BATCH_SIZE = 64\r\n",
        "IMG_SIZE = (224, 224)\r\n"
      ],
      "execution_count": 6,
      "outputs": []
    },
    {
      "cell_type": "code",
      "metadata": {
        "colab": {
          "base_uri": "https://localhost:8080/"
        },
        "id": "d4FnsmS6bTCG",
        "outputId": "36a22c95-0b1c-4e87-8868-edbfdfcf649e"
      },
      "source": [
        "def prepare_data(train_dir, val_dir, test_dir, BATCH_SIZE, IMG_SIZE):\r\n",
        "    train_datagen = image.ImageDataGenerator(rescale=1. / 255)\r\n",
        "    valid_datagen = image.ImageDataGenerator(rescale=1. / 255)\r\n",
        "    test_datagen = image.ImageDataGenerator(rescale=1. / 255)\r\n",
        "\r\n",
        "    print('\\nPreparing train dataset')\r\n",
        "    train_generator = train_datagen.flow_from_directory(\r\n",
        "        train_dir, target_size=IMG_SIZE, batch_size=BATCH_SIZE)\r\n",
        "    print('\\nPreparing validation dataset')\r\n",
        "    val_generator = valid_datagen.flow_from_directory(\r\n",
        "        val_dir, target_size=IMG_SIZE, batch_size=BATCH_SIZE)\r\n",
        "    print('\\nPreparing test dataset')\r\n",
        "    test_generator = test_datagen.flow_from_directory(\r\n",
        "        test_dir, target_size=IMG_SIZE, batch_size=BATCH_SIZE)\r\n",
        "    print('\\nDone!')\r\n",
        "    return train_generator, val_generator, test_generator\r\n",
        "\r\n",
        "\r\n",
        "train_generator, val_generator, test_generator = prepare_data(\r\n",
        "    train_dir, val_dir, test_dir, BATCH_SIZE, IMG_SIZE)"
      ],
      "execution_count": 7,
      "outputs": [
        {
          "output_type": "stream",
          "text": [
            "\n",
            "Preparing train dataset\n",
            "Found 3420 images belonging to 29 classes.\n",
            "\n",
            "Preparing validation dataset\n",
            "Found 495 images belonging to 29 classes.\n",
            "\n",
            "Preparing test dataset\n",
            "Found 991 images belonging to 29 classes.\n",
            "\n",
            "Done!\n"
          ],
          "name": "stdout"
        }
      ]
    },
    {
      "cell_type": "code",
      "metadata": {
        "id": "XKSSLLhccmHi"
      },
      "source": [
        "nb_classes = 29\r\n",
        "nb_training_samples = 3420\r\n",
        "nb_validation_samples = 495\r\n",
        "nb_test_samples = 991\r\n",
        "\r\n",
        "initial_epochs = 30\r\n",
        "#total_epochs = initial_epochs + fine_tune_epochs\r\n",
        "#fine_tune_at = 12"
      ],
      "execution_count": 8,
      "outputs": []
    },
    {
      "cell_type": "code",
      "metadata": {
        "id": "ba8y4gD_csjZ"
      },
      "source": [
        "initial_epochs = 30"
      ],
      "execution_count": 9,
      "outputs": []
    },
    {
      "cell_type": "code",
      "metadata": {
        "id": "wjPPHxWBdP0D"
      },
      "source": [
        "path = '/content/drive/MyDrive/DeepLearning/Final/Model_Transfer/InceptionV3'\r\n",
        "best_base_model = os.path.join(path, 'best_base_model.hdf5')\r\n",
        "base_log = os.path.join(path, 'base_history.log')\r\n",
        "base_model_trained = os.path.join(path, 'base_model_trained.hdf5')\r\n",
        "base_fig = os.path.join(path, 'base_fig.jpg')\r\n",
        "best_fine_tune_model = os.path.join(path, 'best_fine_tune_model.hdf5')\r\n",
        "fine_tune_log = os.path.join(path, 'fine_tune_history.log')\r\n",
        "fine_tune_model_trained = os.path.join(path, 'fine_tune_model_trained.hdf5')\r\n",
        "fine_tune_fig = os.path.join(path, 'fine_tune_fig.jpg')"
      ],
      "execution_count": 10,
      "outputs": []
    },
    {
      "cell_type": "code",
      "metadata": {
        "colab": {
          "base_uri": "https://localhost:8080/"
        },
        "id": "kZcTkq60cvIJ",
        "outputId": "0dd60905-da31-48f3-c335-804267d5b8e4"
      },
      "source": [
        "'''\r\n",
        "instantiate a base model with pre-trained weights\r\n",
        "'''\r\n",
        "print('\\nInstantiating a base model with pre-trained weights..')\r\n",
        "base_model = keras.applications.vgg19.VGG19(\r\n",
        "    weights= 'imagenet', include_top=False)\r\n",
        "\r\n",
        "'''\r\n",
        "create a new model on top\r\n",
        "'''\r\n",
        "print('\\nCreating a new model on top..')\r\n",
        "x = base_model.output\r\n",
        "x = keras.layers.GlobalAveragePooling2D()(x)\r\n",
        "x = keras.layers.Dense(512, activation='relu')(x)\r\n",
        "x = keras.layers.Dropout(0.2)(x)\r\n",
        "predictions = keras.layers.Dense(\r\n",
        "    nb_classes, kernel_regularizer=keras.regularizers.l2(0.005), activation='softmax')(x)\r\n",
        "model = keras.models.Model(inputs=base_model.input, outputs=predictions)\r\n",
        "\r\n",
        "# base_model.trainable = False\r\n",
        "for layer in base_model.layers:\r\n",
        "    layer.trainable = False\r\n",
        "'''\r\n",
        "compile the model\r\n",
        "'''\r\n",
        "print('\\nCompiling the model..')\r\n",
        "model.compile(optimizer='rmsprop',\r\n",
        "              loss='categorical_crossentropy', metrics=['accuracy'])\r\n",
        "\r\n",
        "base_checkpointer = keras.callbacks.ModelCheckpoint(\r\n",
        "    filepath=best_base_model, verbose=1, save_best_only=True)\r\n",
        "base_csv_logger = keras.callbacks.CSVLogger(base_log)\r\n",
        "\r\n",
        "'''\r\n",
        "train the model on new data\r\n",
        "'''\r\n",
        "print('\\nTraining the model on new data..')\r\n",
        "history = model.fit(train_generator,\r\n",
        "                    steps_per_epoch=nb_training_samples // BATCH_SIZE,\r\n",
        "                    validation_data=val_generator,\r\n",
        "                    validation_steps=nb_validation_samples // BATCH_SIZE,\r\n",
        "                    epochs=initial_epochs,\r\n",
        "                    verbose=1,\r\n",
        "                    callbacks=[base_csv_logger, base_checkpointer])\r\n",
        "'''\r\n",
        "save the model\r\n",
        "'''\r\n",
        "print('\\nSaving the model..')\r\n",
        "model.save(base_model_trained)\r\n",
        "\r\n",
        "print('\\nDone!')\r\n"
      ],
      "execution_count": 11,
      "outputs": [
        {
          "output_type": "stream",
          "text": [
            "\n",
            "Instantiating a base model with pre-trained weights..\n",
            "\n",
            "Creating a new model on top..\n",
            "\n",
            "Compiling the model..\n",
            "\n",
            "Training the model on new data..\n",
            "Epoch 1/30\n",
            "53/53 [==============================] - 72s 1s/step - loss: 3.5277 - accuracy: 0.0907 - val_loss: 3.0674 - val_accuracy: 0.2009\n",
            "\n",
            "Epoch 00001: val_loss improved from inf to 3.06742, saving model to /content/drive/MyDrive/DeepLearning/Final/Model_Transfer/InceptionV3/best_base_model.hdf5\n",
            "Epoch 2/30\n",
            "53/53 [==============================] - 66s 1s/step - loss: 2.9541 - accuracy: 0.2194 - val_loss: 2.7678 - val_accuracy: 0.2143\n",
            "\n",
            "Epoch 00002: val_loss improved from 3.06742 to 2.76783, saving model to /content/drive/MyDrive/DeepLearning/Final/Model_Transfer/InceptionV3/best_base_model.hdf5\n",
            "Epoch 3/30\n",
            "53/53 [==============================] - 66s 1s/step - loss: 2.7395 - accuracy: 0.2597 - val_loss: 2.5903 - val_accuracy: 0.2991\n",
            "\n",
            "Epoch 00003: val_loss improved from 2.76783 to 2.59035, saving model to /content/drive/MyDrive/DeepLearning/Final/Model_Transfer/InceptionV3/best_base_model.hdf5\n",
            "Epoch 4/30\n",
            "53/53 [==============================] - 67s 1s/step - loss: 2.5701 - accuracy: 0.3034 - val_loss: 2.4871 - val_accuracy: 0.2969\n",
            "\n",
            "Epoch 00004: val_loss improved from 2.59035 to 2.48710, saving model to /content/drive/MyDrive/DeepLearning/Final/Model_Transfer/InceptionV3/best_base_model.hdf5\n",
            "Epoch 5/30\n",
            "53/53 [==============================] - 66s 1s/step - loss: 2.4614 - accuracy: 0.3302 - val_loss: 2.3940 - val_accuracy: 0.3438\n",
            "\n",
            "Epoch 00005: val_loss improved from 2.48710 to 2.39404, saving model to /content/drive/MyDrive/DeepLearning/Final/Model_Transfer/InceptionV3/best_base_model.hdf5\n",
            "Epoch 6/30\n",
            "53/53 [==============================] - 67s 1s/step - loss: 2.3908 - accuracy: 0.3596 - val_loss: 2.3092 - val_accuracy: 0.3527\n",
            "\n",
            "Epoch 00006: val_loss improved from 2.39404 to 2.30922, saving model to /content/drive/MyDrive/DeepLearning/Final/Model_Transfer/InceptionV3/best_base_model.hdf5\n",
            "Epoch 7/30\n",
            "53/53 [==============================] - 67s 1s/step - loss: 2.3030 - accuracy: 0.3854 - val_loss: 2.2927 - val_accuracy: 0.3750\n",
            "\n",
            "Epoch 00007: val_loss improved from 2.30922 to 2.29274, saving model to /content/drive/MyDrive/DeepLearning/Final/Model_Transfer/InceptionV3/best_base_model.hdf5\n",
            "Epoch 8/30\n",
            "53/53 [==============================] - 67s 1s/step - loss: 2.2402 - accuracy: 0.4027 - val_loss: 2.2497 - val_accuracy: 0.3772\n",
            "\n",
            "Epoch 00008: val_loss improved from 2.29274 to 2.24968, saving model to /content/drive/MyDrive/DeepLearning/Final/Model_Transfer/InceptionV3/best_base_model.hdf5\n",
            "Epoch 9/30\n",
            "53/53 [==============================] - 67s 1s/step - loss: 2.1910 - accuracy: 0.4138 - val_loss: 2.1833 - val_accuracy: 0.4107\n",
            "\n",
            "Epoch 00009: val_loss improved from 2.24968 to 2.18335, saving model to /content/drive/MyDrive/DeepLearning/Final/Model_Transfer/InceptionV3/best_base_model.hdf5\n",
            "Epoch 10/30\n",
            "53/53 [==============================] - 66s 1s/step - loss: 2.1472 - accuracy: 0.4424 - val_loss: 2.1883 - val_accuracy: 0.3817\n",
            "\n",
            "Epoch 00010: val_loss did not improve from 2.18335\n",
            "Epoch 11/30\n",
            "53/53 [==============================] - 66s 1s/step - loss: 2.1152 - accuracy: 0.4319 - val_loss: 2.1739 - val_accuracy: 0.3884\n",
            "\n",
            "Epoch 00011: val_loss improved from 2.18335 to 2.17392, saving model to /content/drive/MyDrive/DeepLearning/Final/Model_Transfer/InceptionV3/best_base_model.hdf5\n",
            "Epoch 12/30\n",
            "53/53 [==============================] - 66s 1s/step - loss: 2.0825 - accuracy: 0.4459 - val_loss: 2.0976 - val_accuracy: 0.4241\n",
            "\n",
            "Epoch 00012: val_loss improved from 2.17392 to 2.09759, saving model to /content/drive/MyDrive/DeepLearning/Final/Model_Transfer/InceptionV3/best_base_model.hdf5\n",
            "Epoch 13/30\n",
            "53/53 [==============================] - 66s 1s/step - loss: 2.0519 - accuracy: 0.4472 - val_loss: 2.1216 - val_accuracy: 0.4129\n",
            "\n",
            "Epoch 00013: val_loss did not improve from 2.09759\n",
            "Epoch 14/30\n",
            "53/53 [==============================] - 66s 1s/step - loss: 2.0171 - accuracy: 0.4725 - val_loss: 2.1592 - val_accuracy: 0.3929\n",
            "\n",
            "Epoch 00014: val_loss did not improve from 2.09759\n",
            "Epoch 15/30\n",
            "53/53 [==============================] - 66s 1s/step - loss: 1.9685 - accuracy: 0.4873 - val_loss: 2.0955 - val_accuracy: 0.4308\n",
            "\n",
            "Epoch 00015: val_loss improved from 2.09759 to 2.09548, saving model to /content/drive/MyDrive/DeepLearning/Final/Model_Transfer/InceptionV3/best_base_model.hdf5\n",
            "Epoch 16/30\n",
            "53/53 [==============================] - 66s 1s/step - loss: 1.9843 - accuracy: 0.4673 - val_loss: 2.1299 - val_accuracy: 0.4152\n",
            "\n",
            "Epoch 00016: val_loss did not improve from 2.09548\n",
            "Epoch 17/30\n",
            "53/53 [==============================] - 66s 1s/step - loss: 1.9396 - accuracy: 0.4884 - val_loss: 2.0268 - val_accuracy: 0.4442\n",
            "\n",
            "Epoch 00017: val_loss improved from 2.09548 to 2.02677, saving model to /content/drive/MyDrive/DeepLearning/Final/Model_Transfer/InceptionV3/best_base_model.hdf5\n",
            "Epoch 18/30\n",
            "53/53 [==============================] - 66s 1s/step - loss: 1.9053 - accuracy: 0.5147 - val_loss: 2.0737 - val_accuracy: 0.4353\n",
            "\n",
            "Epoch 00018: val_loss did not improve from 2.02677\n",
            "Epoch 19/30\n",
            "53/53 [==============================] - 66s 1s/step - loss: 1.8500 - accuracy: 0.5169 - val_loss: 2.0791 - val_accuracy: 0.4263\n",
            "\n",
            "Epoch 00019: val_loss did not improve from 2.02677\n",
            "Epoch 20/30\n",
            "53/53 [==============================] - 66s 1s/step - loss: 1.8933 - accuracy: 0.5062 - val_loss: 2.0321 - val_accuracy: 0.4420\n",
            "\n",
            "Epoch 00020: val_loss did not improve from 2.02677\n",
            "Epoch 21/30\n",
            "53/53 [==============================] - 66s 1s/step - loss: 1.8509 - accuracy: 0.5256 - val_loss: 2.0358 - val_accuracy: 0.4286\n",
            "\n",
            "Epoch 00021: val_loss did not improve from 2.02677\n",
            "Epoch 22/30\n",
            "53/53 [==============================] - 66s 1s/step - loss: 1.8066 - accuracy: 0.5312 - val_loss: 2.1502 - val_accuracy: 0.3996\n",
            "\n",
            "Epoch 00022: val_loss did not improve from 2.02677\n",
            "Epoch 23/30\n",
            "53/53 [==============================] - 66s 1s/step - loss: 1.8028 - accuracy: 0.5214 - val_loss: 2.0273 - val_accuracy: 0.4576\n",
            "\n",
            "Epoch 00023: val_loss did not improve from 2.02677\n",
            "Epoch 24/30\n",
            "53/53 [==============================] - 66s 1s/step - loss: 1.7746 - accuracy: 0.5399 - val_loss: 2.0259 - val_accuracy: 0.4665\n",
            "\n",
            "Epoch 00024: val_loss improved from 2.02677 to 2.02585, saving model to /content/drive/MyDrive/DeepLearning/Final/Model_Transfer/InceptionV3/best_base_model.hdf5\n",
            "Epoch 25/30\n",
            "53/53 [==============================] - 66s 1s/step - loss: 1.7881 - accuracy: 0.5488 - val_loss: 2.0365 - val_accuracy: 0.4308\n",
            "\n",
            "Epoch 00025: val_loss did not improve from 2.02585\n",
            "Epoch 26/30\n",
            "53/53 [==============================] - 66s 1s/step - loss: 1.7631 - accuracy: 0.5568 - val_loss: 1.9930 - val_accuracy: 0.4487\n",
            "\n",
            "Epoch 00026: val_loss improved from 2.02585 to 1.99304, saving model to /content/drive/MyDrive/DeepLearning/Final/Model_Transfer/InceptionV3/best_base_model.hdf5\n",
            "Epoch 27/30\n",
            "53/53 [==============================] - 66s 1s/step - loss: 1.7106 - accuracy: 0.5701 - val_loss: 2.0205 - val_accuracy: 0.4509\n",
            "\n",
            "Epoch 00027: val_loss did not improve from 1.99304\n",
            "Epoch 28/30\n",
            "53/53 [==============================] - 66s 1s/step - loss: 1.7001 - accuracy: 0.5850 - val_loss: 2.0008 - val_accuracy: 0.4732\n",
            "\n",
            "Epoch 00028: val_loss did not improve from 1.99304\n",
            "Epoch 29/30\n",
            "53/53 [==============================] - 66s 1s/step - loss: 1.6970 - accuracy: 0.5695 - val_loss: 1.9964 - val_accuracy: 0.4487\n",
            "\n",
            "Epoch 00029: val_loss did not improve from 1.99304\n",
            "Epoch 30/30\n",
            "53/53 [==============================] - 66s 1s/step - loss: 1.6755 - accuracy: 0.5759 - val_loss: 2.0496 - val_accuracy: 0.4152\n",
            "\n",
            "Epoch 00030: val_loss did not improve from 1.99304\n",
            "\n",
            "Saving the model..\n",
            "\n",
            "Done!\n"
          ],
          "name": "stdout"
        }
      ]
    },
    {
      "cell_type": "code",
      "metadata": {
        "colab": {
          "base_uri": "https://localhost:8080/",
          "height": 513
        },
        "id": "v_yVKRSYPFDe",
        "outputId": "78bfe47c-d0f2-4b13-cd7e-fe1f38579c41"
      },
      "source": [
        "acc = history.history['accuracy']\r\n",
        "val_acc = history.history['val_accuracy']\r\n",
        "\r\n",
        "loss = history.history['loss']\r\n",
        "val_loss = history.history['val_loss']\r\n",
        "\r\n",
        "plt.figure(figsize=(8, 8))\r\n",
        "plt.subplot(2, 1, 1)\r\n",
        "plt.plot(acc, label='Training Accuracy')\r\n",
        "plt.plot(val_acc, label='Validation Accuracy')\r\n",
        "plt.legend(loc='lower right')\r\n",
        "plt.ylabel('Accuracy')\r\n",
        "plt.ylim([min(plt.ylim()), 1])\r\n",
        "plt.title('Training and Validation Accuracy')\r\n",
        "\r\n",
        "plt.subplot(2, 1, 2)\r\n",
        "plt.plot(loss, label='Training Loss')\r\n",
        "plt.plot(val_loss, label='Validation Loss')\r\n",
        "plt.legend(loc='upper right')\r\n",
        "plt.ylabel('Cross Entropy')\r\n",
        "plt.ylim([min(plt.ylim()), max(plt.ylim())])\r\n",
        "plt.title('Training and Validation Loss')\r\n",
        "plt.xlabel('epoch')\r\n",
        "plt.savefig(base_fig)\r\n",
        "plt.show()"
      ],
      "execution_count": 12,
      "outputs": [
        {
          "output_type": "display_data",
          "data": {
            "image/png": "[encoded data removed]",
            "text/plain": [
              "<Figure size 576x576 with 2 Axes>"
            ]
          },
          "metadata": {
            "tags": [],
            "needs_background": "light"
          }
        }
      ]
    },
    {
      "cell_type": "code",
      "metadata": {
        "colab": {
          "base_uri": "https://localhost:8080/"
        },
        "id": "UnJl0oxdXvXq",
        "outputId": "6622bbc1-da81-4d81-e490-360bf1276b71"
      },
      "source": [
        "loss, accuracy = model.evaluate(test_generator)\r\n",
        "print('Test accuracy:', accuracy)"
      ],
      "execution_count": 13,
      "outputs": [
        {
          "output_type": "stream",
          "text": [
            "16/16 [==============================] - 19s 1s/step - loss: 2.0885 - accuracy: 0.4339\n",
            "Test accuracy: 0.43390515446662903\n"
          ],
          "name": "stdout"
        }
      ]
    }
  ]
}